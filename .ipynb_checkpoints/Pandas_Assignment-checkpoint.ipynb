{
 "cells": [
  {
   "cell_type": "markdown",
   "id": "9a74bc80",
   "metadata": {},
   "source": [
    "# Q1: Import pandas library"
   ]
  },
  {
   "cell_type": "code",
   "execution_count": 2,
   "id": "3d77e070",
   "metadata": {
    "tags": []
   },
   "outputs": [],
   "source": [
    "# write your code here ^_^\n",
    "import pandas as pd"
   ]
  },
  {
   "cell_type": "markdown",
   "id": "11029d8d",
   "metadata": {
    "tags": []
   },
   "source": [
    "# Q2: Read instagram_users.csv file"
   ]
  },
  {
   "cell_type": "code",
   "execution_count": 9,
   "id": "416acbaa",
   "metadata": {
    "tags": []
   },
   "outputs": [
    {
     "name": "stdout",
     "output_type": "stream",
     "text": [
      "        pos   flw   flg   bl  pic  lin   cl        cz     ni        erl   erc  \\\n",
      "0        44    48   325   33    1    0   12  0.000000  0.000   0.000000  0.00   \n",
      "1        10    66   321  150    1    0  213  0.000000  1.000  14.390000  1.97   \n",
      "2        33   970   308  101    1    1  436  0.000000  1.000  10.100000  0.30   \n",
      "3        70    86   360   14    1    0    0  1.000000  0.000   0.780000  0.06   \n",
      "4         3    21   285   73    1    0   93  0.000000  0.000  14.290000  0.00   \n",
      "...     ...   ...   ...  ...  ...  ...  ...       ...    ...        ...   ...   \n",
      "65321    13   145   642    0    1    0    7  0.461538  0.000  14.270000  0.58   \n",
      "65322   652  3000  1300  146    1    1  384  0.000000  0.389   8.520000  0.13   \n",
      "65323  1500  3700  3200  147    1    1  129  0.000000  0.111   9.390000  0.31   \n",
      "65324   329  1500  1800  218    1    1  290  0.055556  0.000   6.350000  0.26   \n",
      "65325   206   659   608   27    1    0   77  0.000000  0.333  25.549999  0.53   \n",
      "\n",
      "          lt     hc   pr     fo        cs           pi class  \n",
      "0      0.000  0.000  0.0  0.000  0.111111     0.094985     f  \n",
      "1      0.000  1.500  0.0  0.000  0.206826   230.412857     f  \n",
      "2      0.000  2.500  0.0  0.056  0.572174    43.569939     f  \n",
      "3      0.000  0.000  0.0  0.000  1.000000     5.859799     f  \n",
      "4      0.667  0.000  0.0  0.000  0.300494     0.126019     f  \n",
      "...      ...    ...  ...    ...       ...          ...   ...  \n",
      "65321  0.000  0.077  0.0  0.000  0.192308  1745.291260     r  \n",
      "65322  0.000  1.611  0.0  0.000  0.169917    54.629120     r  \n",
      "65323  0.722  0.000  0.0  0.056  0.058908   129.802048     r  \n",
      "65324  0.222  0.500  0.0  0.000  0.103174    53.402840     r  \n",
      "65325  0.222  0.222  0.0  0.167  0.017505   604.981445     r  \n",
      "\n",
      "[65326 rows x 18 columns]\n"
     ]
    }
   ],
   "source": [
    "# write your code here ^_^\n",
    "df = pd.read_csv('instagram_users.csv')\n",
    "print (df)"
   ]
  },
  {
   "cell_type": "markdown",
   "id": "e4a55d46",
   "metadata": {},
   "source": [
    "# Q3: Print the number of rows and columns contained in the dataset"
   ]
  },
  {
   "cell_type": "code",
   "execution_count": 11,
   "id": "f8052b2d",
   "metadata": {
    "tags": []
   },
   "outputs": [
    {
     "name": "stdout",
     "output_type": "stream",
     "text": [
      "Number of rows: 65326\n",
      "Number of columns: 18\n"
     ]
    }
   ],
   "source": [
    "# write your code here ^_^\n",
    "print(\"Number of rows:\", df.shape[0])\n",
    "print(\"Number of columns:\", df.shape[1])"
   ]
  },
  {
   "cell_type": "markdown",
   "id": "321e2cf3",
   "metadata": {},
   "source": [
    "# Q4: Print the size of dataset"
   ]
  },
  {
   "cell_type": "code",
   "execution_count": 13,
   "id": "94a2f530",
   "metadata": {
    "tags": []
   },
   "outputs": [
    {
     "name": "stdout",
     "output_type": "stream",
     "text": [
      "Size of dataset (in bytes): 9407076\n"
     ]
    }
   ],
   "source": [
    "# write your code here ^_^\n",
    "print(\"Size of dataset (in bytes):\", df.memory_usage().sum())"
   ]
  },
  {
   "cell_type": "markdown",
   "id": "b522cc01",
   "metadata": {},
   "source": [
    "# Q5: Print the data type of each column"
   ]
  },
  {
   "cell_type": "code",
   "execution_count": 15,
   "id": "5e42df5a",
   "metadata": {
    "tags": []
   },
   "outputs": [
    {
     "name": "stdout",
     "output_type": "stream",
     "text": [
      "pos        int64\n",
      "flw        int64\n",
      "flg        int64\n",
      "bl         int64\n",
      "pic        int64\n",
      "lin        int64\n",
      "cl         int64\n",
      "cz       float64\n",
      "ni       float64\n",
      "erl      float64\n",
      "erc      float64\n",
      "lt       float64\n",
      "hc       float64\n",
      "pr       float64\n",
      "fo       float64\n",
      "cs       float64\n",
      "pi       float64\n",
      "class     object\n",
      "dtype: object\n"
     ]
    }
   ],
   "source": [
    "# write your code here ^_^\n",
    "print(df.dtypes)"
   ]
  },
  {
   "cell_type": "markdown",
   "id": "ce0bd348",
   "metadata": {},
   "source": [
    "# Q6: Print the entire dataset\n",
    "Note: if your dataset contains more than 60 rows, only the first 5 rows and the last 5 rows will be printed."
   ]
  },
  {
   "cell_type": "code",
   "execution_count": 17,
   "id": "2651fc51",
   "metadata": {
    "tags": []
   },
   "outputs": [
    {
     "name": "stdout",
     "output_type": "stream",
     "text": [
      "        pos   flw   flg   bl  pic  lin   cl        cz     ni        erl   erc  \\\n",
      "0        44    48   325   33    1    0   12  0.000000  0.000   0.000000  0.00   \n",
      "1        10    66   321  150    1    0  213  0.000000  1.000  14.390000  1.97   \n",
      "2        33   970   308  101    1    1  436  0.000000  1.000  10.100000  0.30   \n",
      "3        70    86   360   14    1    0    0  1.000000  0.000   0.780000  0.06   \n",
      "4         3    21   285   73    1    0   93  0.000000  0.000  14.290000  0.00   \n",
      "...     ...   ...   ...  ...  ...  ...  ...       ...    ...        ...   ...   \n",
      "65321    13   145   642    0    1    0    7  0.461538  0.000  14.270000  0.58   \n",
      "65322   652  3000  1300  146    1    1  384  0.000000  0.389   8.520000  0.13   \n",
      "65323  1500  3700  3200  147    1    1  129  0.000000  0.111   9.390000  0.31   \n",
      "65324   329  1500  1800  218    1    1  290  0.055556  0.000   6.350000  0.26   \n",
      "65325   206   659   608   27    1    0   77  0.000000  0.333  25.549999  0.53   \n",
      "\n",
      "          lt     hc   pr     fo        cs           pi class  \n",
      "0      0.000  0.000  0.0  0.000  0.111111     0.094985     f  \n",
      "1      0.000  1.500  0.0  0.000  0.206826   230.412857     f  \n",
      "2      0.000  2.500  0.0  0.056  0.572174    43.569939     f  \n",
      "3      0.000  0.000  0.0  0.000  1.000000     5.859799     f  \n",
      "4      0.667  0.000  0.0  0.000  0.300494     0.126019     f  \n",
      "...      ...    ...  ...    ...       ...          ...   ...  \n",
      "65321  0.000  0.077  0.0  0.000  0.192308  1745.291260     r  \n",
      "65322  0.000  1.611  0.0  0.000  0.169917    54.629120     r  \n",
      "65323  0.722  0.000  0.0  0.056  0.058908   129.802048     r  \n",
      "65324  0.222  0.500  0.0  0.000  0.103174    53.402840     r  \n",
      "65325  0.222  0.222  0.0  0.167  0.017505   604.981445     r  \n",
      "\n",
      "[65326 rows x 18 columns]\n"
     ]
    }
   ],
   "source": [
    "# write your code here ^_^\n",
    "print(df)"
   ]
  },
  {
   "cell_type": "markdown",
   "id": "0467233d",
   "metadata": {},
   "source": [
    "# Q7: Print the first 5 rows"
   ]
  },
  {
   "cell_type": "code",
   "execution_count": 22,
   "id": "d74487c7",
   "metadata": {
    "tags": []
   },
   "outputs": [
    {
     "name": "stdout",
     "output_type": "stream",
     "text": [
      "   pos  flw  flg   bl  pic  lin   cl   cz   ni    erl   erc     lt   hc   pr  \\\n",
      "0   44   48  325   33    1    0   12  0.0  0.0   0.00  0.00  0.000  0.0  0.0   \n",
      "1   10   66  321  150    1    0  213  0.0  1.0  14.39  1.97  0.000  1.5  0.0   \n",
      "2   33  970  308  101    1    1  436  0.0  1.0  10.10  0.30  0.000  2.5  0.0   \n",
      "3   70   86  360   14    1    0    0  1.0  0.0   0.78  0.06  0.000  0.0  0.0   \n",
      "4    3   21  285   73    1    0   93  0.0  0.0  14.29  0.00  0.667  0.0  0.0   \n",
      "\n",
      "      fo        cs          pi class  \n",
      "0  0.000  0.111111    0.094985     f  \n",
      "1  0.000  0.206826  230.412857     f  \n",
      "2  0.056  0.572174   43.569939     f  \n",
      "3  0.000  1.000000    5.859799     f  \n",
      "4  0.000  0.300494    0.126019     f  \n"
     ]
    }
   ],
   "source": [
    "# write your code here ^_^\n",
    "print(df.head())"
   ]
  },
  {
   "cell_type": "markdown",
   "id": "caad024d",
   "metadata": {},
   "source": [
    "# Q8: Print the last 5 rows"
   ]
  },
  {
   "cell_type": "code",
   "execution_count": 24,
   "id": "39d40478",
   "metadata": {
    "tags": []
   },
   "outputs": [
    {
     "name": "stdout",
     "output_type": "stream",
     "text": [
      "        pos   flw   flg   bl  pic  lin   cl        cz     ni        erl   erc  \\\n",
      "65321    13   145   642    0    1    0    7  0.461538  0.000  14.270000  0.58   \n",
      "65322   652  3000  1300  146    1    1  384  0.000000  0.389   8.520000  0.13   \n",
      "65323  1500  3700  3200  147    1    1  129  0.000000  0.111   9.390000  0.31   \n",
      "65324   329  1500  1800  218    1    1  290  0.055556  0.000   6.350000  0.26   \n",
      "65325   206   659   608   27    1    0   77  0.000000  0.333  25.549999  0.53   \n",
      "\n",
      "          lt     hc   pr     fo        cs           pi class  \n",
      "65321  0.000  0.077  0.0  0.000  0.192308  1745.291260     r  \n",
      "65322  0.000  1.611  0.0  0.000  0.169917    54.629120     r  \n",
      "65323  0.722  0.000  0.0  0.056  0.058908   129.802048     r  \n",
      "65324  0.222  0.500  0.0  0.000  0.103174    53.402840     r  \n",
      "65325  0.222  0.222  0.0  0.167  0.017505   604.981445     r  \n"
     ]
    }
   ],
   "source": [
    "# write your code here ^_^\n",
    "print(df.tail())"
   ]
  },
  {
   "cell_type": "markdown",
   "id": "4b8b1367",
   "metadata": {},
   "source": [
    "# Q9: Print the total number of null values"
   ]
  },
  {
   "cell_type": "code",
   "execution_count": 26,
   "id": "798bd987",
   "metadata": {
    "tags": []
   },
   "outputs": [
    {
     "name": "stdout",
     "output_type": "stream",
     "text": [
      "0\n"
     ]
    }
   ],
   "source": [
    "# write your code here ^_^\n",
    "print(df.isnull().sum().sum())"
   ]
  },
  {
   "cell_type": "markdown",
   "id": "05ca8a46",
   "metadata": {},
   "source": [
    "# Q10: Print the rows that has duplicate values"
   ]
  },
  {
   "cell_type": "code",
   "execution_count": 29,
   "id": "67133af9",
   "metadata": {
    "tags": []
   },
   "outputs": [
    {
     "name": "stdout",
     "output_type": "stream",
     "text": [
      "       pos  flw   flg  bl  pic  lin  cl   cz   ni  erl  erc   lt   hc   pr  \\\n",
      "4118     0    0     0   0    0    0  -1  0.0  0.0  0.0  0.0  0.0  0.0  0.0   \n",
      "4165     0   30   149   0    1    0   0  0.0  0.0  0.0  0.0  0.0  0.0  0.0   \n",
      "5812     0    0     0   0    0    0  -1  0.0  0.0  0.0  0.0  0.0  0.0  0.0   \n",
      "6500     0    0     0   0    0    0  -1  0.0  0.0  0.0  0.0  0.0  0.0  0.0   \n",
      "8134     0    0     0   0    0    0  -1  0.0  0.0  0.0  0.0  0.0  0.0  0.0   \n",
      "...    ...  ...   ...  ..  ...  ...  ..  ...  ...  ...  ...  ...  ...  ...   \n",
      "32745    0    0     0   0    0    0  -1  0.0  0.0  0.0  0.0  0.0  0.0  0.0   \n",
      "32747    0   34  7500   0    1    0   0  0.0  0.0  0.0  0.0  0.0  0.0  0.0   \n",
      "32748    0   77  7400   0    1    0   0  0.0  0.0  0.0  0.0  0.0  0.0  0.0   \n",
      "32749    0   70  7300   0    0    0   0  0.0  0.0  0.0  0.0  0.0  0.0  0.0   \n",
      "32764    0    0     0   0    0    0  -1  0.0  0.0  0.0  0.0  0.0  0.0  0.0   \n",
      "\n",
      "        fo   cs   pi class  \n",
      "4118   0.0  0.0  0.0     f  \n",
      "4165   0.0  1.0  0.0     f  \n",
      "5812   0.0  0.0  0.0     f  \n",
      "6500   0.0  0.0  0.0     f  \n",
      "8134   0.0  0.0  0.0     f  \n",
      "...    ...  ...  ...   ...  \n",
      "32745  0.0  0.0  0.0     f  \n",
      "32747  0.0  1.0  0.0     f  \n",
      "32748  0.0  1.0  0.0     f  \n",
      "32749  0.0  1.0  0.0     f  \n",
      "32764  0.0  0.0  0.0     f  \n",
      "\n",
      "[1082 rows x 18 columns]\n"
     ]
    }
   ],
   "source": [
    "# write your code here ^_^\n",
    "print(df[df.duplicated()])"
   ]
  },
  {
   "cell_type": "markdown",
   "id": "f50aeb22",
   "metadata": {},
   "source": [
    "# Q11: Remove all duplicate values "
   ]
  },
  {
   "cell_type": "code",
   "execution_count": 31,
   "id": "1b27a1c6",
   "metadata": {
    "tags": []
   },
   "outputs": [
    {
     "name": "stdout",
     "output_type": "stream",
     "text": [
      "        pos   flw   flg   bl  pic  lin   cl        cz     ni        erl   erc  \\\n",
      "0        44    48   325   33    1    0   12  0.000000  0.000   0.000000  0.00   \n",
      "1        10    66   321  150    1    0  213  0.000000  1.000  14.390000  1.97   \n",
      "2        33   970   308  101    1    1  436  0.000000  1.000  10.100000  0.30   \n",
      "3        70    86   360   14    1    0    0  1.000000  0.000   0.780000  0.06   \n",
      "4         3    21   285   73    1    0   93  0.000000  0.000  14.290000  0.00   \n",
      "...     ...   ...   ...  ...  ...  ...  ...       ...    ...        ...   ...   \n",
      "65321    13   145   642    0    1    0    7  0.461538  0.000  14.270000  0.58   \n",
      "65322   652  3000  1300  146    1    1  384  0.000000  0.389   8.520000  0.13   \n",
      "65323  1500  3700  3200  147    1    1  129  0.000000  0.111   9.390000  0.31   \n",
      "65324   329  1500  1800  218    1    1  290  0.055556  0.000   6.350000  0.26   \n",
      "65325   206   659   608   27    1    0   77  0.000000  0.333  25.549999  0.53   \n",
      "\n",
      "          lt     hc   pr     fo        cs           pi class  \n",
      "0      0.000  0.000  0.0  0.000  0.111111     0.094985     f  \n",
      "1      0.000  1.500  0.0  0.000  0.206826   230.412857     f  \n",
      "2      0.000  2.500  0.0  0.056  0.572174    43.569939     f  \n",
      "3      0.000  0.000  0.0  0.000  1.000000     5.859799     f  \n",
      "4      0.667  0.000  0.0  0.000  0.300494     0.126019     f  \n",
      "...      ...    ...  ...    ...       ...          ...   ...  \n",
      "65321  0.000  0.077  0.0  0.000  0.192308  1745.291260     r  \n",
      "65322  0.000  1.611  0.0  0.000  0.169917    54.629120     r  \n",
      "65323  0.722  0.000  0.0  0.056  0.058908   129.802048     r  \n",
      "65324  0.222  0.500  0.0  0.000  0.103174    53.402840     r  \n",
      "65325  0.222  0.222  0.0  0.167  0.017505   604.981445     r  \n",
      "\n",
      "[64244 rows x 18 columns]\n"
     ]
    }
   ],
   "source": [
    "# write your code here ^_^\n",
    "df.drop_duplicates(inplace=True)\n",
    "\n",
    "print(df)"
   ]
  },
  {
   "cell_type": "markdown",
   "id": "9c5dad70",
   "metadata": {},
   "source": [
    "# Q12: Print the number of rows and columns contained in the dataset after removing the duplicate values"
   ]
  },
  {
   "cell_type": "code",
   "execution_count": 33,
   "id": "0c655153",
   "metadata": {
    "tags": []
   },
   "outputs": [
    {
     "name": "stdout",
     "output_type": "stream",
     "text": [
      "Number of rows: 64244\n",
      "Number of columns: 18\n"
     ]
    }
   ],
   "source": [
    "# write your code here ^_^\n",
    "print(\"Number of rows:\", len(df))\n",
    "print(\"Number of columns:\", len(df.columns))"
   ]
  },
  {
   "cell_type": "markdown",
   "id": "e158869c",
   "metadata": {},
   "source": [
    "# Q13: Rename all dataset's columns\n",
    "\n",
    "|  Column name  |  New column name  |  Description  |\n",
    "| ----- | -------- | ------- |\n",
    "| pos    | Num_posts        | Number of total posts that the user has ever posted   |\n",
    "| flg    | Num_following    | Number of following                                   |\n",
    "| flr    | Num_followers    | Number of followers                                   |\n",
    "| bl     | Biography_length | Length (number of characters) of the user's biography |\n",
    "| pic    | Picture_availability | Value 0 if the user has no profile picture, or 1 if has |\n",
    "| lin    | Link_availability| Value 0 if the user has no external URL, or 1 if has |\n",
    "| cl     | Average_caption_length | The average number of character of captions in media |\n",
    "| cz     | Caption_zero     | Percentage (0.0 to 1.0) of captions that has almost zero (<=3) length |\n",
    "| ni     | Non_image_percentage | Percentage (0.0 to 1.0) of non-image media. There are three types of media on an Instagram post, i.e. image, video, carousel\n",
    "| erl    | Engagement_rate_like | Engagement rate (ER) is commonly defined as (num likes) divide by (num media) divide by (num followers)\n",
    "| erc    | Engagement_rate_comment | Similar to ER like, but it is for comments |\n",
    "| lt     | Location_tag_percentage | Percentage (0.0 to 1.0) of posts tagged with location |\n",
    "| hc     | Average hashtag count   | Average number of hashtags used in a post |\n",
    "| pr     | Promotional keywords | Average use of promotional keywords in hashtag, i.e. regrann, contest, repost, giveaway, mention, share, give away, quiz |\n",
    "| fo     | Followers keywords | Average use of followers hunter keywords in hashtag, i.e. follow, like, folback, follback, f4f|\n",
    "| cs     | Cosine similarity  | Average cosine similarity of between all pair of two posts a user has |\n",
    "| pi     | Post interval      | Average interval between posts (in hours) |\n",
    "| class  | real_fake          | r (real/authentic user), f (fake user/bought followers) |"
   ]
  },
  {
   "cell_type": "code",
   "execution_count": 35,
   "id": "745fb877",
   "metadata": {
    "tags": []
   },
   "outputs": [
    {
     "name": "stdout",
     "output_type": "stream",
     "text": [
      "       Num_posts  Num_following  Num_followers  Biography_length  \\\n",
      "0             44             48            325                33   \n",
      "1             10             66            321               150   \n",
      "2             33            970            308               101   \n",
      "3             70             86            360                14   \n",
      "4              3             21            285                73   \n",
      "...          ...            ...            ...               ...   \n",
      "65321         13            145            642                 0   \n",
      "65322        652           3000           1300               146   \n",
      "65323       1500           3700           3200               147   \n",
      "65324        329           1500           1800               218   \n",
      "65325        206            659            608                27   \n",
      "\n",
      "       Picture_availability  Link_availability  Average_caption_length  \\\n",
      "0                         1                  0                      12   \n",
      "1                         1                  0                     213   \n",
      "2                         1                  1                     436   \n",
      "3                         1                  0                       0   \n",
      "4                         1                  0                      93   \n",
      "...                     ...                ...                     ...   \n",
      "65321                     1                  0                       7   \n",
      "65322                     1                  1                     384   \n",
      "65323                     1                  1                     129   \n",
      "65324                     1                  1                     290   \n",
      "65325                     1                  0                      77   \n",
      "\n",
      "       Caption_zero  Non_image_percentage  Engagement_rate_like  \\\n",
      "0          0.000000                 0.000              0.000000   \n",
      "1          0.000000                 1.000             14.390000   \n",
      "2          0.000000                 1.000             10.100000   \n",
      "3          1.000000                 0.000              0.780000   \n",
      "4          0.000000                 0.000             14.290000   \n",
      "...             ...                   ...                   ...   \n",
      "65321      0.461538                 0.000             14.270000   \n",
      "65322      0.000000                 0.389              8.520000   \n",
      "65323      0.000000                 0.111              9.390000   \n",
      "65324      0.055556                 0.000              6.350000   \n",
      "65325      0.000000                 0.333             25.549999   \n",
      "\n",
      "       Engagement_rate_comment  Location_tag_percentage  \\\n",
      "0                         0.00                    0.000   \n",
      "1                         1.97                    0.000   \n",
      "2                         0.30                    0.000   \n",
      "3                         0.06                    0.000   \n",
      "4                         0.00                    0.667   \n",
      "...                        ...                      ...   \n",
      "65321                     0.58                    0.000   \n",
      "65322                     0.13                    0.000   \n",
      "65323                     0.31                    0.722   \n",
      "65324                     0.26                    0.222   \n",
      "65325                     0.53                    0.222   \n",
      "\n",
      "       Average_hashtag_count  Promotional_keywords  Followers_keywords  \\\n",
      "0                      0.000                   0.0               0.000   \n",
      "1                      1.500                   0.0               0.000   \n",
      "2                      2.500                   0.0               0.056   \n",
      "3                      0.000                   0.0               0.000   \n",
      "4                      0.000                   0.0               0.000   \n",
      "...                      ...                   ...                 ...   \n",
      "65321                  0.077                   0.0               0.000   \n",
      "65322                  1.611                   0.0               0.000   \n",
      "65323                  0.000                   0.0               0.056   \n",
      "65324                  0.500                   0.0               0.000   \n",
      "65325                  0.222                   0.0               0.167   \n",
      "\n",
      "       Cosine_similarity  Post_interval real_fake  \n",
      "0               0.111111       0.094985         f  \n",
      "1               0.206826     230.412857         f  \n",
      "2               0.572174      43.569939         f  \n",
      "3               1.000000       5.859799         f  \n",
      "4               0.300494       0.126019         f  \n",
      "...                  ...            ...       ...  \n",
      "65321           0.192308    1745.291260         r  \n",
      "65322           0.169917      54.629120         r  \n",
      "65323           0.058908     129.802048         r  \n",
      "65324           0.103174      53.402840         r  \n",
      "65325           0.017505     604.981445         r  \n",
      "\n",
      "[64244 rows x 18 columns]\n"
     ]
    }
   ],
   "source": [
    "# write your code here ^_^\n",
    "df.columns = ['Num_posts', 'Num_following', 'Num_followers', 'Biography_length', 'Picture_availability', 'Link_availability', 'Average_caption_length', 'Caption_zero', 'Non_image_percentage', 'Engagement_rate_like', 'Engagement_rate_comment', 'Location_tag_percentage', 'Average_hashtag_count', 'Promotional_keywords', 'Followers_keywords', 'Cosine_similarity', 'Post_interval', 'real_fake']\n",
    "\n",
    "print(df)"
   ]
  },
  {
   "cell_type": "markdown",
   "id": "5d787ca2",
   "metadata": {},
   "source": [
    "# Q14: Change the class's values to real and fake"
   ]
  },
  {
   "cell_type": "code",
   "execution_count": 37,
   "id": "1f9b2da6",
   "metadata": {
    "tags": []
   },
   "outputs": [
    {
     "name": "stdout",
     "output_type": "stream",
     "text": [
      "       Num_posts  Num_following  Num_followers  Biography_length  \\\n",
      "0             44             48            325                33   \n",
      "1             10             66            321               150   \n",
      "2             33            970            308               101   \n",
      "3             70             86            360                14   \n",
      "4              3             21            285                73   \n",
      "...          ...            ...            ...               ...   \n",
      "65321         13            145            642                 0   \n",
      "65322        652           3000           1300               146   \n",
      "65323       1500           3700           3200               147   \n",
      "65324        329           1500           1800               218   \n",
      "65325        206            659            608                27   \n",
      "\n",
      "       Picture_availability  Link_availability  Average_caption_length  \\\n",
      "0                         1                  0                      12   \n",
      "1                         1                  0                     213   \n",
      "2                         1                  1                     436   \n",
      "3                         1                  0                       0   \n",
      "4                         1                  0                      93   \n",
      "...                     ...                ...                     ...   \n",
      "65321                     1                  0                       7   \n",
      "65322                     1                  1                     384   \n",
      "65323                     1                  1                     129   \n",
      "65324                     1                  1                     290   \n",
      "65325                     1                  0                      77   \n",
      "\n",
      "       Caption_zero  Non_image_percentage  Engagement_rate_like  \\\n",
      "0          0.000000                 0.000              0.000000   \n",
      "1          0.000000                 1.000             14.390000   \n",
      "2          0.000000                 1.000             10.100000   \n",
      "3          1.000000                 0.000              0.780000   \n",
      "4          0.000000                 0.000             14.290000   \n",
      "...             ...                   ...                   ...   \n",
      "65321      0.461538                 0.000             14.270000   \n",
      "65322      0.000000                 0.389              8.520000   \n",
      "65323      0.000000                 0.111              9.390000   \n",
      "65324      0.055556                 0.000              6.350000   \n",
      "65325      0.000000                 0.333             25.549999   \n",
      "\n",
      "       Engagement_rate_comment  Location_tag_percentage  \\\n",
      "0                         0.00                    0.000   \n",
      "1                         1.97                    0.000   \n",
      "2                         0.30                    0.000   \n",
      "3                         0.06                    0.000   \n",
      "4                         0.00                    0.667   \n",
      "...                        ...                      ...   \n",
      "65321                     0.58                    0.000   \n",
      "65322                     0.13                    0.000   \n",
      "65323                     0.31                    0.722   \n",
      "65324                     0.26                    0.222   \n",
      "65325                     0.53                    0.222   \n",
      "\n",
      "       Average_hashtag_count  Promotional_keywords  Followers_keywords  \\\n",
      "0                      0.000                   0.0               0.000   \n",
      "1                      1.500                   0.0               0.000   \n",
      "2                      2.500                   0.0               0.056   \n",
      "3                      0.000                   0.0               0.000   \n",
      "4                      0.000                   0.0               0.000   \n",
      "...                      ...                   ...                 ...   \n",
      "65321                  0.077                   0.0               0.000   \n",
      "65322                  1.611                   0.0               0.000   \n",
      "65323                  0.000                   0.0               0.056   \n",
      "65324                  0.500                   0.0               0.000   \n",
      "65325                  0.222                   0.0               0.167   \n",
      "\n",
      "       Cosine_similarity  Post_interval real_fake  \n",
      "0               0.111111       0.094985         f  \n",
      "1               0.206826     230.412857         f  \n",
      "2               0.572174      43.569939         f  \n",
      "3               1.000000       5.859799         f  \n",
      "4               0.300494       0.126019         f  \n",
      "...                  ...            ...       ...  \n",
      "65321           0.192308    1745.291260         r  \n",
      "65322           0.169917      54.629120         r  \n",
      "65323           0.058908     129.802048         r  \n",
      "65324           0.103174      53.402840         r  \n",
      "65325           0.017505     604.981445         r  \n",
      "\n",
      "[64244 rows x 18 columns]\n"
     ]
    }
   ],
   "source": [
    "# write your code here ^_^\n",
    "df.columns = ['Num_posts', 'Num_following', 'Num_followers', 'Biography_length', 'Picture_availability', 'Link_availability', 'Average_caption_length', 'Caption_zero', 'Non_image_percentage', 'Engagement_rate_like', 'Engagement_rate_comment', 'Location_tag_percentage', 'Average_hashtag_count', 'Promotional_keywords', 'Followers_keywords', 'Cosine_similarity', 'Post_interval', 'real_fake']\n",
    "\n",
    "print(df)"
   ]
  },
  {
   "cell_type": "markdown",
   "id": "39aecf1c",
   "metadata": {},
   "source": [
    "# Q15: Print the total number of each fake accounts and real accounts "
   ]
  },
  {
   "cell_type": "code",
   "execution_count": 39,
   "id": "4bfb149a",
   "metadata": {
    "tags": []
   },
   "outputs": [
    {
     "name": "stdout",
     "output_type": "stream",
     "text": [
      "real_fake\n",
      "r    32460\n",
      "f    31784\n",
      "Name: count, dtype: int64\n"
     ]
    }
   ],
   "source": [
    "# write your code here ^_^\n",
    "print(df['real_fake'].value_counts())"
   ]
  },
  {
   "cell_type": "markdown",
   "id": "3b7464bb",
   "metadata": {},
   "source": [
    "# Q16: Print the count, mean, std, min, 25%, 50%, 75% and the max for each column"
   ]
  },
  {
   "cell_type": "code",
   "execution_count": null,
   "id": "033b7757",
   "metadata": {},
   "outputs": [],
   "source": [
    "# write your code here ^_^"
   ]
  }
 ],
 "metadata": {
  "kernelspec": {
   "display_name": "Python 3 (ipykernel)",
   "language": "python",
   "name": "python3"
  },
  "language_info": {
   "codemirror_mode": {
    "name": "ipython",
    "version": 3
   },
   "file_extension": ".py",
   "mimetype": "text/x-python",
   "name": "python",
   "nbconvert_exporter": "python",
   "pygments_lexer": "ipython3",
   "version": "3.11.7"
  }
 },
 "nbformat": 4,
 "nbformat_minor": 5
}
